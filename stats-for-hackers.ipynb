{
 "cells": [
  {
   "cell_type": "code",
   "execution_count": null,
   "metadata": {},
   "outputs": [],
   "source": [
    "import matplotlib.pyplot as plt\n",
    "import numpy as np\n",
    "import pandas as pd\n",
    "import seaborn as sns"
   ]
  },
  {
   "cell_type": "code",
   "execution_count": null,
   "metadata": {},
   "outputs": [],
   "source": [
    "plt.rcParams = plt.rcParamsOrig"
   ]
  },
  {
   "cell_type": "markdown",
   "metadata": {},
   "source": [
    "# Direct Sampling\n",
    "\n",
    "Dari 30 orang yang Anda tunjukkan UI baru aplikasi Anda, 22 orang berkata mereka menyukainya. Apakah ini kebetulan? 📱"
   ]
  },
  {
   "cell_type": "markdown",
   "metadata": {},
   "source": [
    "## Metode Klasik\n",
    "\n",
    "$$\n",
    "P(X \\ge k) = 1 - \\sum_{c=0}^{k-1} \\binom{n}{c} p^c (1-p)^{n-c}\n",
    "$$"
   ]
  },
  {
   "cell_type": "code",
   "execution_count": null,
   "metadata": {},
   "outputs": [],
   "source": [
    "import scipy.stats as ss\n",
    "\n",
    "x = np.arange(31)\n",
    "y = ss.binom(30, 0.5).pmf(x)\n",
    "plt.bar(x, y)\n",
    "plt.axvline(22, c='tab:red')\n",
    "plt.annotate(\"\", xy=(24, 0.08), xytext=(22, 0.08),\n",
    "             arrowprops=dict(arrowstyle=\"->\", color='tab:red'))\n",
    "plt.xlabel('$k$')\n",
    "plt.ylabel('$P(X=k)$');"
   ]
  },
  {
   "cell_type": "markdown",
   "metadata": {},
   "source": [
    "## Metode Sampling"
   ]
  },
  {
   "cell_type": "code",
   "execution_count": null,
   "metadata": {},
   "outputs": [],
   "source": [
    "# Kode Anda di sini"
   ]
  },
  {
   "cell_type": "markdown",
   "metadata": {},
   "source": [
    "# Shuffling\n",
    "\n",
    "Diberikan data alokasi pupuk lama dan baru beserta hasil panennya seperti di bawah ini. Apakah pupuk baru berdampak pada hasil panen yang lebih banyak? 🍅"
   ]
  },
  {
   "cell_type": "code",
   "execution_count": null,
   "metadata": {},
   "outputs": [],
   "source": [
    "x1 = np.array([29.2, 11.4, 25.3, 16.5, 21.1]) # 20.70\n",
    "x2 = np.array([26.6, 23.7, 28.5, 14.2, 17.9, 24.3]) # 22.53\n",
    "n1 = len(x1)\n",
    "n2 = len(x2)"
   ]
  },
  {
   "cell_type": "markdown",
   "metadata": {},
   "source": [
    "## Metode Klasik\n",
    "\n",
    "$$\n",
    "t = \\frac{\\bar X_1 - \\bar X_2}{\\sqrt{\\frac{s_1^2}{n_1} + \\frac{s_2^2}{n_2}}}\n",
    "$$"
   ]
  },
  {
   "cell_type": "code",
   "execution_count": null,
   "metadata": {},
   "outputs": [],
   "source": [
    "t = np.round(\n",
    "    (x2.mean() - x1.mean()) / np.sqrt(np.var(x1, ddof=1)/n1 + np.var(x2, ddof=1)/n2),\n",
    "    3\n",
    ")"
   ]
  },
  {
   "cell_type": "markdown",
   "metadata": {},
   "source": [
    "$$\n",
    "\\nu \\approx \\frac{\\left(\\frac{s_1^2}{N_1} + \\frac{s_2^2}{N_2}\\right)^2}{\\frac{s_1^4}{N_1^2(N_1-1)} + \\frac{s_2^4}{N_2^2(N_2-1)}}\n",
    "$$"
   ]
  },
  {
   "cell_type": "code",
   "execution_count": null,
   "metadata": {},
   "outputs": [],
   "source": [
    "num = (np.var(x1, ddof=1)/n1 + np.var(x2, ddof=1)/n2) ** 2\n",
    "denom = np.var(x1, ddof=1)**2/(n1**2 * (n1 - 1)) + np.var(x2, ddof=1)**2/(n2**2 * (n2 - 1))\n",
    "nu = num / denom\n",
    "ss.t(nu).ppf(1 - 0.05)"
   ]
  },
  {
   "cell_type": "markdown",
   "metadata": {},
   "source": [
    "## Metode Engineer"
   ]
  },
  {
   "cell_type": "code",
   "execution_count": null,
   "metadata": {},
   "outputs": [],
   "source": [
    "from statsmodels.stats.weightstats import ttest_ind\n",
    "\n",
    "t, p, dof = ttest_ind(\n",
    "    x2, x1,\n",
    "    alternative='larger',\n",
    "    usevar='unequal'\n",
    ")\n",
    "p"
   ]
  },
  {
   "cell_type": "markdown",
   "metadata": {},
   "source": [
    "## Metode Sampling"
   ]
  },
  {
   "cell_type": "code",
   "execution_count": null,
   "metadata": {},
   "outputs": [],
   "source": [
    "np.random.seed(42)\n",
    "\n",
    "x = np.array([29.2, 11.4, 26.6, 23.7, 25.3, 28.5, 14.2, 17.9, 16.5, 21.1, 24.3])\n",
    "diff = []\n",
    "# Kode Anda di sini"
   ]
  },
  {
   "cell_type": "code",
   "execution_count": null,
   "metadata": {},
   "outputs": [],
   "source": [
    "sns.histplot(x=diff, bins=30, element='step', fill=False)\n",
    "plt.axvline(1.83, c='tab:red')\n",
    "plt.annotate(\"\", xy=(3, 400), xytext=(1.83, 400),\n",
    "             arrowprops=dict(arrowstyle=\"->\", color='tab:red'))\n",
    "plt.xlabel('$X$')\n",
    "plt.ylabel('freq');"
   ]
  },
  {
   "cell_type": "markdown",
   "metadata": {},
   "source": [
    "# Bootstrapping\n",
    "\n",
    "Seorang pengemudi ojek online mendapatkan order tiap harinya selama 21 hari sebagai berikut. Seberapa yakin dia dengan rata-rata jumlah order per harinya? 🛵"
   ]
  },
  {
   "cell_type": "code",
   "execution_count": null,
   "metadata": {},
   "outputs": [],
   "source": [
    "np.random.seed(42)\n",
    "\n",
    "x = np.random.poisson(20, size=(3, 7))\n",
    "sns.heatmap(\n",
    "    x,\n",
    "    square=True,\n",
    "    cbar=False,\n",
    "    annot=True,\n",
    "    fmt='d',\n",
    "    cmap='Greens'\n",
    ")\n",
    "plt.xticks([])\n",
    "plt.yticks([]);"
   ]
  },
  {
   "cell_type": "markdown",
   "metadata": {},
   "source": [
    "## Metode Klasik"
   ]
  },
  {
   "cell_type": "markdown",
   "metadata": {},
   "source": [
    "$$\n",
    "\\bar{X} = \\frac{1}{N} \\sum_{i=1}^N x_i\n",
    "$$\n",
    "\n",
    "$$\n",
    "\\sigma_{\\bar{x}} = \\frac{1}{\\sqrt{N}} \\sqrt{\\frac{1}{N-1} \\sum_{i=1}^N (x_i - \\bar{x})^2}\n",
    "$$"
   ]
  },
  {
   "cell_type": "code",
   "execution_count": null,
   "metadata": {},
   "outputs": [],
   "source": [
    "# Kode Anda di sini"
   ]
  },
  {
   "cell_type": "markdown",
   "metadata": {},
   "source": [
    "## Metode Sampling"
   ]
  },
  {
   "cell_type": "code",
   "execution_count": null,
   "metadata": {},
   "outputs": [],
   "source": [
    "from matplotlib.animation import FuncAnimation\n",
    "from IPython.display import HTML\n",
    "\n",
    "plt.rcParams['animation.html'] = 'html5'\n",
    "fig, ax = plt.subplots()\n",
    "\n",
    "def update(frame):\n",
    "    bg = np.array([0] * 20 + [1])\n",
    "    np.random.shuffle(bg)\n",
    "    bg = bg.reshape(3, 7)\n",
    "    ax.imshow(bg)\n",
    "    for i in range(x.shape[0]):\n",
    "        for j in range(x.shape[1]):\n",
    "            c = 'k' if bg[i, j] == 1 else 'w'\n",
    "            plt.text(j-0.1, i+0.1, x[i,j], c=c)\n",
    "    plt.axis('off')\n",
    "    return ax\n",
    "\n",
    "anim = FuncAnimation(fig, update, frames=21, interval=500)\n",
    "# anim.save('ojek.gif', writer='imagemagick', fps=21)\n",
    "anim;"
   ]
  },
  {
   "cell_type": "code",
   "execution_count": null,
   "metadata": {},
   "outputs": [],
   "source": [
    "n_trials = 10_000\n",
    "data = []\n",
    "# Kode Anda di sini"
   ]
  },
  {
   "cell_type": "code",
   "execution_count": null,
   "metadata": {},
   "outputs": [],
   "source": [
    "sns.histplot(x=data, bins=30)\n",
    "plt.xlabel('$\\\\bar x$')\n",
    "plt.title(f\"order = {data.mean():.2f} $\\pm$ {data.std():.2f}\")\n",
    "plt.savefig('ojek-hist.png', bbox_inches='tight')"
   ]
  },
  {
   "cell_type": "markdown",
   "metadata": {},
   "source": [
    "# Bootstrapped Linear Regression"
   ]
  },
  {
   "cell_type": "code",
   "execution_count": null,
   "metadata": {},
   "outputs": [],
   "source": [
    "np.random.seed(1)\n",
    "\n",
    "y = x.flatten()\n",
    "hour = y / (1.75) + np.random.normal(scale=0.7, size=21)\n",
    "fig, ax = plt.subplots(figsize=(7, 7))\n",
    "sns.regplot(\n",
    "    x=hour,\n",
    "    y=y,\n",
    "    ci=False,\n",
    "    ax=ax\n",
    ")\n",
    "plt.xlabel('jam kerja')\n",
    "plt.ylabel('order');"
   ]
  },
  {
   "cell_type": "code",
   "execution_count": null,
   "metadata": {},
   "outputs": [],
   "source": [
    "n_trials = 10_000\n",
    "models = []\n",
    "for _ in range(n_trials):\n",
    "    i = np.random.randint(21, size=21)\n",
    "    reg = ss.linregress(hour[i], y[i])\n",
    "    models.append((reg.intercept, reg.slope))"
   ]
  },
  {
   "cell_type": "code",
   "execution_count": null,
   "metadata": {},
   "outputs": [],
   "source": [
    "sns.jointplot(\n",
    "    x='slope',\n",
    "    y='intercept',\n",
    "    data=pd.DataFrame(models, columns=['intercept', 'slope']),\n",
    "    kind='hex'\n",
    ");"
   ]
  },
  {
   "cell_type": "code",
   "execution_count": null,
   "metadata": {},
   "outputs": [],
   "source": [
    "fig, ax = plt.subplots(figsize=(7, 7))\n",
    "intercepts, slopes = np.array(models).T\n",
    "yhat = np.outer(intercepts, np.ones(21)) + np.outer(slopes, hour)\n",
    "sns.regplot(\n",
    "    x=hour,\n",
    "    y=y,\n",
    "    ci=False,\n",
    "    ax=ax\n",
    ")\n",
    "plt.fill_between(\n",
    "    hour,\n",
    "    yhat.mean(axis=0) - yhat.std(axis=0),\n",
    "    yhat.mean(axis=0) + yhat.std(axis=0),\n",
    "    alpha=0.5,\n",
    "    color='tab:orange'\n",
    ");"
   ]
  },
  {
   "cell_type": "markdown",
   "metadata": {},
   "source": [
    "# Cross Validation\n",
    "\n",
    "Bagaimana trend dari pertumbuhan jumlah kasus harian COVID-19 di Indonesia pada 100 hari pertama? 🦠"
   ]
  },
  {
   "cell_type": "code",
   "execution_count": null,
   "metadata": {},
   "outputs": [],
   "source": [
    "# Sumber: Kawal COVID-19\n",
    "# https://kawalcovid19.id/\n",
    "df = pd.read_csv('https://docs.google.com/spreadsheets/d/1ma1T9hWbec1pXlwZ89WakRk-OfVUQZsOCFl4FwZxzVw/export?format=csv&gid=387345074')"
   ]
  },
  {
   "cell_type": "code",
   "execution_count": null,
   "metadata": {},
   "outputs": [],
   "source": [
    "data = df['Kasus harian'].str.replace(',', '').astype(int).reset_index()\n",
    "train_data = data.head(100).copy()"
   ]
  },
  {
   "cell_type": "code",
   "execution_count": null,
   "metadata": {},
   "outputs": [],
   "source": [
    "sns.regplot(\n",
    "    x='index',\n",
    "    y='Kasus harian',\n",
    "    ci=None,\n",
    "    data=train_data,\n",
    "    fit_reg=True,\n",
    "    marker='.',\n",
    "    order=1, # orde polinomial\n",
    "    line_kws=dict(\n",
    "        color='tab:red',\n",
    "        alpha=0.5\n",
    "    )\n",
    ")\n",
    "plt.xlabel('hari ke-i')\n",
    "plt.ylabel('jumlah kasus');"
   ]
  },
  {
   "cell_type": "code",
   "execution_count": null,
   "metadata": {},
   "outputs": [],
   "source": [
    "from sklearn.metrics import mean_squared_error\n",
    "\n",
    "def regress(x, y, degree):\n",
    "    p = np.polyfit(x, y, degree)\n",
    "    reg = np.poly1d(p)\n",
    "    yhat = reg(x)\n",
    "    return mean_squared_error(y, yhat)"
   ]
  },
  {
   "cell_type": "code",
   "execution_count": null,
   "metadata": {},
   "outputs": [],
   "source": [
    "mses = []\n",
    "degrees = range(1, 15)\n",
    "for degree in degrees:\n",
    "    mses.append(\n",
    "        regress(train_data['index'], train_data['Kasus harian'], degree)\n",
    "    )\n",
    "plt.plot(degrees, np.sqrt(mses))\n",
    "plt.xlabel('orde polinomial')\n",
    "plt.ylabel('RMSE');"
   ]
  },
  {
   "cell_type": "markdown",
   "metadata": {},
   "source": [
    "## Metode Sampling"
   ]
  },
  {
   "cell_type": "code",
   "execution_count": null,
   "metadata": {},
   "outputs": [],
   "source": [
    "train_data['label'] = np.random.randint(0, 2, size=len(train_data))\n",
    "mask = train_data['label'] == 1"
   ]
  },
  {
   "cell_type": "code",
   "execution_count": null,
   "metadata": {},
   "outputs": [],
   "source": [
    "plt.scatter(\n",
    "    x='index',\n",
    "    y='Kasus harian',\n",
    "    data=train_data,\n",
    "    c=np.array(['tab:blue', 'tab:red'])[train_data.label],\n",
    "    marker='.'\n",
    ")\n",
    "plt.xlabel('hari ke-i')\n",
    "plt.ylabel('jumlah kasus');"
   ]
  },
  {
   "cell_type": "code",
   "execution_count": null,
   "metadata": {},
   "outputs": [],
   "source": [
    "fig, ax = plt.subplots(sharex=True, sharey=True, ncols=2)\n",
    "configs = dict(\n",
    "    x='index',\n",
    "    y='Kasus harian',\n",
    "    ci=None,\n",
    "    fit_reg=True,\n",
    "    scatter=False,\n",
    "    marker='.',\n",
    "    order=2\n",
    ")\n",
    "sns.regplot(\n",
    "    data=train_data[mask],\n",
    "    color='tab:blue',\n",
    "    ax=ax[0],\n",
    "    **configs\n",
    ")\n",
    "sns.regplot(\n",
    "    data=train_data[~mask],\n",
    "    color='tab:red',\n",
    "    ax=ax[1],\n",
    "    **configs\n",
    ")\n",
    "new_configs = dict(\n",
    "    x='index',\n",
    "    y='Kasus harian',\n",
    "    ci=None,\n",
    "    fit_reg=False,\n",
    "    scatter=True,\n",
    "    marker='.'\n",
    ")\n",
    "sns.regplot(\n",
    "    data=train_data[~mask],\n",
    "    color='tab:red',\n",
    "    ax=ax[0],\n",
    "    **new_configs\n",
    ")\n",
    "sns.regplot(\n",
    "    data=train_data[mask],\n",
    "    color='tab:blue',\n",
    "    ax=ax[1],\n",
    "    **new_configs\n",
    ")\n",
    "ax[0].set_xlabel('hari ke-i')\n",
    "ax[0].set_ylabel('jumlah kasus')\n",
    "ax[1].set_xlabel('hari ke-i')\n",
    "ax[1].set_ylabel('');"
   ]
  },
  {
   "cell_type": "code",
   "execution_count": null,
   "metadata": {},
   "outputs": [],
   "source": [
    "p = np.polyfit(train_data[~mask]['index'], train_data[~mask]['Kasus harian'], 2)\n",
    "reg = np.poly1d(p)\n",
    "y_true = train_data[mask]['Kasus harian']\n",
    "y_pred = reg(train_data[mask]['index'])\n",
    "np.sqrt(mean_squared_error(y_true, y_pred))"
   ]
  },
  {
   "cell_type": "code",
   "execution_count": null,
   "metadata": {},
   "outputs": [],
   "source": [
    "def cross_validate(x, y, degree: int, n_fold: int, metric) -> np.ndarray:\n",
    "    # Kode Anda di sini\n",
    "    pass"
   ]
  },
  {
   "cell_type": "code",
   "execution_count": null,
   "metadata": {},
   "outputs": [],
   "source": [
    "np.random.seed(42)\n",
    "\n",
    "mses = []\n",
    "emses = []\n",
    "degrees = range(1, 15)\n",
    "for degree in degrees:\n",
    "    mses.append(\n",
    "        regress(train_data['index'], train_data['Kasus harian'], degree)\n",
    "    )\n",
    "    emses.append(\n",
    "        cross_validate(\n",
    "            train_data['index'], train_data['Kasus harian'],\n",
    "            degree=degree,\n",
    "            n_fold=2,\n",
    "            metric=mean_squared_error\n",
    "        ).mean()\n",
    "    )\n",
    "plt.plot(degrees, np.sqrt(mses))\n",
    "plt.plot(degrees, np.sqrt(emses))\n",
    "plt.xlabel('orde polinomial')\n",
    "plt.ylabel('RMSE')\n",
    "plt.legend(['RMSE', 'CV-RMSE']);"
   ]
  },
  {
   "cell_type": "code",
   "execution_count": null,
   "metadata": {},
   "outputs": [],
   "source": [
    "p = np.polyfit(train_data['index'], train_data['Kasus harian'], 7)\n",
    "reg = np.poly1d(p)\n",
    "ax = plt.gca()\n",
    "data['Kasus harian'].plot.line(label='aktual', ax=ax)\n",
    "ax.plot(reg(data['index']), label='prediksi')\n",
    "\n",
    "axins = ax.inset_axes([0.1, 0.2, 0.5, 0.5])\n",
    "data['Kasus harian'].head(200).plot.line(label='aktual', ax=axins)\n",
    "axins.plot(reg(data['index'].head(200)), label='prediksi')\n",
    "x1, x2, y1, y2 = 0, 200, 0, 4000\n",
    "axins.set_xlim(x1, x2)\n",
    "axins.set_ylim(y1, y2)\n",
    "axins.set_xticklabels('')\n",
    "axins.set_yticklabels('')\n",
    "ax.indicate_inset_zoom(axins, edgecolor=\"black\")\n",
    "\n",
    "plt.legend(['aktual', 'prediksi']);"
   ]
  },
  {
   "cell_type": "markdown",
   "metadata": {},
   "source": [
    "# Bonus\n",
    "\n",
    "Seorang penikmat musik sedang shuffle play lagu soundtrack Charlie's Angels terbaru. Di albumnya ada 11 lagu, 6 di antaranya lagu Ariana Grande. Berapa peluangnya didapatkan lagu Ariana Grande tiga kali berturut-turut? (Sumber: [Twitter](https://twitter.com/waribowo_/status/1196722307722444802))"
   ]
  }
 ],
 "metadata": {
  "kernelspec": {
   "display_name": "Python 3",
   "language": "python",
   "name": "python3"
  },
  "language_info": {
   "codemirror_mode": {
    "name": "ipython",
    "version": 3
   },
   "file_extension": ".py",
   "mimetype": "text/x-python",
   "name": "python",
   "nbconvert_exporter": "python",
   "pygments_lexer": "ipython3",
   "version": "3.7.7"
  }
 },
 "nbformat": 4,
 "nbformat_minor": 4
}
